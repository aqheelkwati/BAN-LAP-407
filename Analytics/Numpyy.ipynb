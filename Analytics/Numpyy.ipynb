{
 "cells": [
  {
   "cell_type": "code",
   "execution_count": 3,
   "id": "23e80a63",
   "metadata": {},
   "outputs": [],
   "source": [
    "import numpy as np"
   ]
  },
  {
   "cell_type": "code",
   "execution_count": 5,
   "id": "3c1163c7",
   "metadata": {},
   "outputs": [
    {
     "name": "stdout",
     "output_type": "stream",
     "text": [
      "[1, 2, 3, 4]\n"
     ]
    }
   ],
   "source": [
    "l=[1,2,3,4]\n",
    "print(l)"
   ]
  },
  {
   "cell_type": "code",
   "execution_count": 15,
   "id": "9e86f520",
   "metadata": {},
   "outputs": [
    {
     "name": "stdout",
     "output_type": "stream",
     "text": [
      "1D array\n",
      "[1 2 3 4]\n",
      "2D array\n",
      "[[1 2 3 4]\n",
      " [1 2 3 4]\n",
      " [1 2 3 4]]\n",
      "3D array\n",
      "[[[1 2 3 4]\n",
      "  [1 2 3 4]\n",
      "  [1 2 3 4]]]\n",
      "<class 'numpy.ndarray'>\n",
      "4\n"
     ]
    }
   ],
   "source": [
    "print('1D array')\n",
    "a=np.array([1,2,3,4])\n",
    "print(a)\n",
    "print('2D array')\n",
    "b=np.array([[1,2,3,4],\n",
    "           [1,2,3,4],\n",
    "           [1,2,3,4]])\n",
    "print(b)\n",
    "print('3D array')\n",
    "c=np.array([[[1,2,3,4],\n",
    "           [1,2,3,4],\n",
    "           [1,2,3,4]]])\n",
    "print(c)\n",
    "print(type(a))\n",
    "print(a.size)"
   ]
  },
  {
   "cell_type": "code",
   "execution_count": 11,
   "id": "05ea3c63",
   "metadata": {},
   "outputs": [
    {
     "name": "stdout",
     "output_type": "stream",
     "text": [
      "(4,) \n",
      " (2, 4) \n",
      " (1, 3, 4)\n"
     ]
    }
   ],
   "source": [
    "print(a.shape,'\\n',b.shape,'\\n',c.shape)"
   ]
  },
  {
   "cell_type": "code",
   "execution_count": 12,
   "id": "270d547b",
   "metadata": {},
   "outputs": [
    {
     "name": "stdout",
     "output_type": "stream",
     "text": [
      "int32 int32 int32\n"
     ]
    }
   ],
   "source": [
    "print(a.dtype,b.dtype,c.dtype) # Tells type of data present in that array"
   ]
  },
  {
   "cell_type": "code",
   "execution_count": 16,
   "id": "a81c4ddf",
   "metadata": {},
   "outputs": [
    {
     "data": {
      "text/plain": [
       "array([[1, 1, 1],\n",
       "       [2, 2, 2],\n",
       "       [3, 3, 3],\n",
       "       [4, 4, 4]])"
      ]
     },
     "execution_count": 16,
     "metadata": {},
     "output_type": "execute_result"
    }
   ],
   "source": [
    "b.transpose() #Inverts rows & columns"
   ]
  },
  {
   "cell_type": "code",
   "execution_count": 17,
   "id": "bc824b30",
   "metadata": {},
   "outputs": [
    {
     "data": {
      "text/plain": [
       "array([[4128860, 6029375, 3801155],\n",
       "       [5570652, 6619251, 7536754],\n",
       "       [6357084, 6815841, 7143521],\n",
       "       [6553701,       0,       0]])"
      ]
     },
     "execution_count": 17,
     "metadata": {},
     "output_type": "execute_result"
    }
   ],
   "source": [
    "#np.empty((rows,cols),dtype) It pints arrays of that size with random data\n",
    "np.empty((4,3),dtype=int)"
   ]
  },
  {
   "cell_type": "code",
   "execution_count": 26,
   "id": "5c50a645",
   "metadata": {},
   "outputs": [
    {
     "data": {
      "text/plain": [
       "array([['1', '1'],\n",
       "       ['1', '1']], dtype='<U1')"
      ]
     },
     "execution_count": 26,
     "metadata": {},
     "output_type": "execute_result"
    }
   ],
   "source": [
    "np.ones((2,2),dtype=str) #gives a array of values 1 or 1. or True or '1'(for string type) based on datatype"
   ]
  },
  {
   "cell_type": "code",
   "execution_count": 28,
   "id": "e26a0019",
   "metadata": {},
   "outputs": [
    {
     "data": {
      "text/plain": [
       "array([['', ''],\n",
       "       ['', '']], dtype='<U1')"
      ]
     },
     "execution_count": 28,
     "metadata": {},
     "output_type": "execute_result"
    }
   ],
   "source": [
    "np.zeros((2,2),dtype=str) #gives a array of values 1 or 1. or True or ''(for string type) based on datatype"
   ]
  },
  {
   "cell_type": "code",
   "execution_count": 31,
   "id": "eb49812a",
   "metadata": {},
   "outputs": [
    {
     "name": "stdout",
     "output_type": "stream",
     "text": [
      "[ 2  4  6  8 10 12 14 16 18]\n"
     ]
    }
   ],
   "source": [
    "#................  np.arange(start,end,step) \n",
    "#It prints a list with data of that range\n",
    "a=np.arange(2,20,2)\n",
    "print(a)"
   ]
  },
  {
   "cell_type": "code",
   "execution_count": 32,
   "id": "d004f12f",
   "metadata": {},
   "outputs": [
    {
     "name": "stdout",
     "output_type": "stream",
     "text": [
      "[[ 2  4  6]\n",
      " [ 8 10 12]\n",
      " [14 16 18]]\n"
     ]
    }
   ],
   "source": [
    "# arr.reshape((rows,cols))  Here arr is an already created array , It is used to reshape rows & cols of any array\n",
    "a=a.reshape((3,3))\n",
    "print(a)"
   ]
  },
  {
   "cell_type": "code",
   "execution_count": 33,
   "id": "5ab0920b",
   "metadata": {},
   "outputs": [
    {
     "name": "stdout",
     "output_type": "stream",
     "text": [
      "[ 2  4  6  8 10 12 14 16 18]\n"
     ]
    }
   ],
   "source": [
    "# arr.flatten() It reshapes any multi-dimensional array into 1D array\n",
    "a=a.flatten()\n",
    "print(a)"
   ]
  },
  {
   "cell_type": "code",
   "execution_count": 34,
   "id": "95ed3a7c",
   "metadata": {},
   "outputs": [],
   "source": [
    "# arr.ravel() It is same as flatten()\n",
    "\n",
    "# #..............arr.flatten()\n",
    "# 1.It returns copy of original array\n",
    "# 2.Value of original array wont be affected when we flatten() an array.\n",
    "# 3.It is slower than ravel() as it occupies more memory.\n",
    "# 4.It is a method of an ndarray object.\n",
    "\n",
    "# #...............arr.ravel()\n",
    "# 1.Returns only refeence/view of original array\n",
    "# 2.Value of original array also changes when we modify it\n",
    "# 3.It is faster than fatten() as it doesnt occuy any memory.\n",
    "# 4.It is a library level function\n"
   ]
  },
  {
   "cell_type": "code",
   "execution_count": 48,
   "id": "87137725",
   "metadata": {},
   "outputs": [
    {
     "name": "stdout",
     "output_type": "stream",
     "text": [
      "[[ 1  2  3  4  5]\n",
      " [ 6  7  8  9 10]\n",
      " [11 12 13 14 15]\n",
      " [16 17 18 19 20]\n",
      " [21 22 23 24 25]\n",
      " [26 27 28 29 30]\n",
      " [31 32 33 34 35]\n",
      " [36 37 38 39 40]\n",
      " [41 42 43 44 45]\n",
      " [46 47 48 49 50]]\n"
     ]
    }
   ],
   "source": [
    "a=np.arange(1,51)\n",
    "a=a.reshape((10,5))\n",
    "print(a)"
   ]
  },
  {
   "cell_type": "code",
   "execution_count": 49,
   "id": "020b8ff5",
   "metadata": {},
   "outputs": [
    {
     "name": "stdout",
     "output_type": "stream",
     "text": [
      "i\n",
      " [1 2 3 4 5]\n",
      "ii\n",
      " 1\n",
      "iii\n",
      " 15\n",
      "iv\n",
      " [[11 12 13 14 15]\n",
      " [16 17 18 19 20]\n",
      " [21 22 23 24 25]]\n",
      "v\n",
      " [ 3  8 13 18 23 28 33 38 43 48]\n",
      "vi\n",
      " [15 20 25]\n",
      "vii\n",
      " [[ 3  4  5]\n",
      " [ 8  9 10]\n",
      " [13 14 15]\n",
      " [18 19 20]\n",
      " [23 24 25]\n",
      " [28 29 30]\n",
      " [33 34 35]\n",
      " [38 39 40]\n",
      " [43 44 45]\n",
      " [48 49 50]]\n"
     ]
    }
   ],
   "source": [
    "print('i\\n',a[0]) # prints 0th row\n",
    "print('ii\\n',a[0,0]) #prints 0th(index) row 0th column element\n",
    "print('iii\\n',a[2,4]) #prints 2nd row 4th column element\n",
    "# slicing....................................................................\n",
    "print('iv\\n',a[2:5]) # prints from 2nd(index) row till 4th row (5th row is excluded)\n",
    "print('v\\n',a[:,2]) # Print all the rows of 2nd(index) column\n",
    "print('vi\\n',a[2:5,4])\n",
    "print('vii\\n',a[:,2:5])\n",
    " "
   ]
  },
  {
   "cell_type": "code",
   "execution_count": 52,
   "id": "0d9afb38",
   "metadata": {},
   "outputs": [
    {
     "name": "stdout",
     "output_type": "stream",
     "text": [
      "[[ 0  1  2]\n",
      " [ 3  4  5]\n",
      " [ 6  7  8]\n",
      " [ 9 10 11]\n",
      " [12 13 14]\n",
      " [15 16 17]]\n",
      "[[20 21 22]\n",
      " [23 24 25]\n",
      " [26 27 28]\n",
      " [29 30 31]\n",
      " [32 33 34]\n",
      " [35 36 37]]\n"
     ]
    }
   ],
   "source": [
    "#.........................Mathematical Operations..................\n",
    "a=np.arange(0,18).reshape((6,3))\n",
    "b=np.arange(20,38).reshape((6,3))\n",
    "print(a)\n",
    "print(b)"
   ]
  },
  {
   "cell_type": "code",
   "execution_count": 56,
   "id": "0d3f0df7",
   "metadata": {},
   "outputs": [
    {
     "name": "stdout",
     "output_type": "stream",
     "text": [
      "[[20 22 24]\n",
      " [26 28 30]\n",
      " [32 34 36]\n",
      " [38 40 42]\n",
      " [44 46 48]\n",
      " [50 52 54]]\n"
     ]
    },
    {
     "data": {
      "text/plain": [
       "array([[20, 22, 24],\n",
       "       [26, 28, 30],\n",
       "       [32, 34, 36],\n",
       "       [38, 40, 42],\n",
       "       [44, 46, 48],\n",
       "       [50, 52, 54]])"
      ]
     },
     "execution_count": 56,
     "metadata": {},
     "output_type": "execute_result"
    }
   ],
   "source": [
    "print(a+b) #adds each elements of same index\n",
    "#or\n",
    "np.add(a,b) "
   ]
  },
  {
   "cell_type": "code",
   "execution_count": 57,
   "id": "8125e793",
   "metadata": {},
   "outputs": [
    {
     "name": "stdout",
     "output_type": "stream",
     "text": [
      "[[-20 -20 -20]\n",
      " [-20 -20 -20]\n",
      " [-20 -20 -20]\n",
      " [-20 -20 -20]\n",
      " [-20 -20 -20]\n",
      " [-20 -20 -20]]\n"
     ]
    },
    {
     "data": {
      "text/plain": [
       "array([[-20, -20, -20],\n",
       "       [-20, -20, -20],\n",
       "       [-20, -20, -20],\n",
       "       [-20, -20, -20],\n",
       "       [-20, -20, -20],\n",
       "       [-20, -20, -20]])"
      ]
     },
     "execution_count": 57,
     "metadata": {},
     "output_type": "execute_result"
    }
   ],
   "source": [
    "print(a-b)\n",
    "np.subtract(a,b)"
   ]
  },
  {
   "cell_type": "code",
   "execution_count": 58,
   "id": "3435114b",
   "metadata": {},
   "outputs": [
    {
     "name": "stdout",
     "output_type": "stream",
     "text": [
      "[[  0  21  44]\n",
      " [ 69  96 125]\n",
      " [156 189 224]\n",
      " [261 300 341]\n",
      " [384 429 476]\n",
      " [525 576 629]]\n"
     ]
    },
    {
     "data": {
      "text/plain": [
       "array([[  0,  21,  44],\n",
       "       [ 69,  96, 125],\n",
       "       [156, 189, 224],\n",
       "       [261, 300, 341],\n",
       "       [384, 429, 476],\n",
       "       [525, 576, 629]])"
      ]
     },
     "execution_count": 58,
     "metadata": {},
     "output_type": "execute_result"
    }
   ],
   "source": [
    "print(a*b)  #Note each element is getting multiplied But not a matrix multiplication\n",
    "np.multiply(a,b)"
   ]
  },
  {
   "cell_type": "code",
   "execution_count": 59,
   "id": "421b32f7",
   "metadata": {},
   "outputs": [
    {
     "name": "stdout",
     "output_type": "stream",
     "text": [
      "[[0.         0.04761905 0.09090909]\n",
      " [0.13043478 0.16666667 0.2       ]\n",
      " [0.23076923 0.25925926 0.28571429]\n",
      " [0.31034483 0.33333333 0.35483871]\n",
      " [0.375      0.39393939 0.41176471]\n",
      " [0.42857143 0.44444444 0.45945946]]\n"
     ]
    },
    {
     "data": {
      "text/plain": [
       "array([[0.        , 0.04761905, 0.09090909],\n",
       "       [0.13043478, 0.16666667, 0.2       ],\n",
       "       [0.23076923, 0.25925926, 0.28571429],\n",
       "       [0.31034483, 0.33333333, 0.35483871],\n",
       "       [0.375     , 0.39393939, 0.41176471],\n",
       "       [0.42857143, 0.44444444, 0.45945946]])"
      ]
     },
     "execution_count": 59,
     "metadata": {},
     "output_type": "execute_result"
    }
   ],
   "source": [
    "print(a/b)\n",
    "np.divide(a,b)"
   ]
  },
  {
   "cell_type": "code",
   "execution_count": 62,
   "id": "c64e0a8a",
   "metadata": {},
   "outputs": [
    {
     "name": "stdout",
     "output_type": "stream",
     "text": [
      "[[ 465  480  495]\n",
      " [1455 1506 1557]\n",
      " [2445 2532 2619]]\n"
     ]
    },
    {
     "data": {
      "text/plain": [
       "array([[ 465,  480,  495],\n",
       "       [1455, 1506, 1557],\n",
       "       [2445, 2532, 2619]])"
      ]
     },
     "execution_count": 62,
     "metadata": {},
     "output_type": "execute_result"
    }
   ],
   "source": [
    "#Matrix multiplication Note col_num of 1st array & row_num of 2nd array should be identical\n",
    "a=a.reshape((3,6))\n",
    "print(a@b)\n",
    "a.dot(b)"
   ]
  },
  {
   "cell_type": "code",
   "execution_count": 67,
   "id": "96885fef",
   "metadata": {},
   "outputs": [
    {
     "name": "stdout",
     "output_type": "stream",
     "text": [
      "37\n",
      "20\n",
      "17\n",
      "513\n",
      "[ 63  72  81  90  99 108]\n",
      "[165 171 177]\n"
     ]
    }
   ],
   "source": [
    "print(b.max())    # gives max element of that array\n",
    "print(b.min())\n",
    "print(b.argmax()) #gives index of maximum element\n",
    "print(np.sum(b)) #sums all elements of that array\n",
    "print(np.sum(b,axis=1)) #sums all elements of each row that array\n",
    "print(np.sum(b,axis=0)) #sums all elements of each col that array"
   ]
  },
  {
   "cell_type": "code",
   "execution_count": 71,
   "id": "dd8f6f7d",
   "metadata": {},
   "outputs": [
    {
     "name": "stdout",
     "output_type": "stream",
     "text": [
      "28.5\n",
      "[[4.47213595 4.58257569 4.69041576]\n",
      " [4.79583152 4.89897949 5.        ]\n",
      " [5.09901951 5.19615242 5.29150262]\n",
      " [5.38516481 5.47722558 5.56776436]\n",
      " [5.65685425 5.74456265 5.83095189]\n",
      " [5.91607978 6.         6.08276253]]\n",
      "5.188127472091127\n",
      "[[2.99573227 3.04452244 3.09104245]\n",
      " [3.13549422 3.17805383 3.21887582]\n",
      " [3.25809654 3.29583687 3.33220451]\n",
      " [3.36729583 3.40119738 3.4339872 ]\n",
      " [3.4657359  3.49650756 3.52636052]\n",
      " [3.55534806 3.58351894 3.61091791]]\n"
     ]
    }
   ],
   "source": [
    "print(np.mean(b))  #gives mean of all elements of array\n",
    "print(np.sqrt(b))  #gives sqrt of each elements of array\n",
    "print(np.std(b))   #std deviation\n",
    "print(np.log(b))   #log of each element of array"
   ]
  },
  {
   "cell_type": "code",
   "execution_count": 72,
   "id": "af03e26e",
   "metadata": {},
   "outputs": [
    {
     "data": {
      "text/plain": [
       "3.141592653589793"
      ]
     },
     "execution_count": 72,
     "metadata": {},
     "output_type": "execute_result"
    }
   ],
   "source": [
    "np.pi"
   ]
  },
  {
   "cell_type": "code",
   "execution_count": 73,
   "id": "e50e60d3",
   "metadata": {},
   "outputs": [
    {
     "data": {
      "text/plain": [
       "1.0"
      ]
     },
     "execution_count": 73,
     "metadata": {},
     "output_type": "execute_result"
    }
   ],
   "source": [
    "np.sin(np.pi/2) #90 degrees"
   ]
  },
  {
   "cell_type": "code",
   "execution_count": 74,
   "id": "b63ece36",
   "metadata": {},
   "outputs": [
    {
     "data": {
      "text/plain": [
       "0.0"
      ]
     },
     "execution_count": 74,
     "metadata": {},
     "output_type": "execute_result"
    }
   ],
   "source": [
    "np.tan(0)\n"
   ]
  },
  {
   "cell_type": "code",
   "execution_count": 78,
   "id": "3bc6763c",
   "metadata": {},
   "outputs": [],
   "source": [
    "import matplotlib.pyplot as plt"
   ]
  },
  {
   "cell_type": "code",
   "execution_count": 84,
   "id": "a4d08afe",
   "metadata": {},
   "outputs": [
    {
     "data": {
      "image/png": "[encoded data removed]",
      "text/plain": [
       "<Figure size 400x400 with 1 Axes>"
      ]
     },
     "metadata": {},
     "output_type": "display_data"
    }
   ],
   "source": [
    "x=np.arange(1,11)\n",
    "y=np.arange(10,110,10)\n",
    "\n",
    "plt.figure(figsize=(4,4))\n",
    "plt.plot(x,y,'r--')\n",
    "plt.show()"
   ]
  },
  {
   "cell_type": "code",
   "execution_count": 88,
   "id": "c64ecb89",
   "metadata": {},
   "outputs": [
    {
     "name": "stdout",
     "output_type": "stream",
     "text": [
      "[ 0.84147098  0.89120736  0.93203909  0.96355819  0.98544973  0.99749499\n",
      "  0.9995736   0.99166481  0.97384763  0.94630009  0.90929743  0.86320937\n",
      "  0.8084964   0.74570521  0.67546318  0.59847214  0.51550137  0.42737988\n",
      "  0.33498815  0.23924933  0.14112001  0.04158066 -0.05837414 -0.15774569\n",
      " -0.2555411  -0.35078323 -0.44252044 -0.52983614 -0.61185789 -0.68776616\n",
      " -0.7568025  -0.81827711 -0.87157577 -0.91616594 -0.95160207 -0.97753012\n",
      " -0.993691   -0.99992326 -0.99616461 -0.98245261 -0.95892427 -0.92581468\n",
      " -0.88345466 -0.83226744 -0.77276449 -0.70554033 -0.63126664 -0.55068554\n",
      " -0.46460218 -0.37387666 -0.2794155  -0.1821625  -0.0830894 ]\n"
     ]
    }
   ],
   "source": [
    "#Plotting trignometric curves using matplotlib\n",
    "x_sin=np.arange(1,2*np.pi,0.1)\n",
    "y_sin=np.sin(x_sin)\n",
    "print(y_sin)"
   ]
  },
  {
   "cell_type": "code",
   "execution_count": 89,
   "id": "75373131",
   "metadata": {},
   "outputs": [
    {
     "data": {
      "image/png": "[encoded data removed]",
      "text/plain": [
       "<Figure size 400x400 with 1 Axes>"
      ]
     },
     "metadata": {},
     "output_type": "display_data"
    }
   ],
   "source": [
    "plt.figure(figsize=(4,4))\n",
    "plt.plot(x_sin,y_sin)\n",
    "plt.title('Sin curve')\n",
    "plt.show()"
   ]
  },
  {
   "cell_type": "code",
   "execution_count": 90,
   "id": "eec49feb",
   "metadata": {},
   "outputs": [
    {
     "data": {
      "image/png": "[encoded data removed]",
      "text/plain": [
       "<Figure size 400x400 with 1 Axes>"
      ]
     },
     "metadata": {},
     "output_type": "display_data"
    }
   ],
   "source": [
    "x_cos=np.arange(0,2*np.pi,0.1)\n",
    "y_cos=np.cos(x_cos)\n",
    "\n",
    "plt.figure(figsize=(4,4))\n",
    "plt.plot(x_cos,y_cos)\n",
    "plt.title('Cos Curve')\n",
    "plt.show()"
   ]
  },
  {
   "cell_type": "code",
   "execution_count": 92,
   "id": "d0df2027",
   "metadata": {},
   "outputs": [
    {
     "data": {
      "image/png": "[encoded data removed]",
      "text/plain": [
       "<Figure size 400x400 with 1 Axes>"
      ]
     },
     "metadata": {},
     "output_type": "display_data"
    }
   ],
   "source": [
    "x_tan=np.arange(0,2*np.pi,0.1)\n",
    "y_tan=np.tan(x_tan)\n",
    "\n",
    "plt.figure(figsize=(4,4))\n",
    "plt.plot(x_tan,y_tan)\n",
    "plt.title(\"Tan Curve\")\n",
    "plt.show()"
   ]
  },
  {
   "cell_type": "code",
   "execution_count": 101,
   "id": "fcf56d2d",
   "metadata": {},
   "outputs": [
    {
     "name": "stderr",
     "output_type": "stream",
     "text": [
      "C:\\Users\\aahamed\\AppData\\Local\\Temp\\1\\ipykernel_17900\\642847323.py:3: RuntimeWarning: divide by zero encountered in divide\n",
      "  y_cot=1/np.tan(x_cot)\n"
     ]
    },
    {
     "data": {
      "image/png": "[encoded data removed]",
      "text/plain": [
       "<Figure size 600x600 with 4 Axes>"
      ]
     },
     "metadata": {},
     "output_type": "display_data"
    }
   ],
   "source": [
    "#Ploting all the graphs in single page using subplot\n",
    "x_cot=np.arange(0,2*np.pi,0.1)\n",
    "y_cot=1/np.tan(x_cot)\n",
    "\n",
    "plt.figure(figsize=(6,6))\n",
    "\n",
    "plt.subplot(2,2,1)   # 2 rows, 2 cols, 1st position\n",
    "plt.plot(x_sin,y_sin,'r--') #r-- is style\n",
    "plt.title('Sin Curve')\n",
    "\n",
    "plt.subplot(2,2,2)\n",
    "plt.plot(x_cos,y_cot,'b--')\n",
    "plt.title(\"cos curve\")\n",
    "\n",
    "plt.subplot(2,2,3)\n",
    "plt.plot(x_tan,y_tan,'g')\n",
    "plt.title('tan curve')\n",
    "\n",
    "plt.subplot(2,2,4)\n",
    "plt.plot(x_cot,y_cot,'y')\n",
    "plt.title(\"cot curve\")\n",
    "\n",
    "plt.show()"
   ]
  },
  {
   "cell_type": "code",
   "execution_count": 112,
   "id": "cf5440e7",
   "metadata": {},
   "outputs": [
    {
     "name": "stdout",
     "output_type": "stream",
     "text": [
      "[0.50146935 0.22864717]\n",
      "........................\n",
      "[[0.74081319 0.55096866]\n",
      " [0.97799651 0.31205316]]\n"
     ]
    }
   ],
   "source": [
    "# random function\n",
    "print(np.random.random(2))       # Prints an array with random value\n",
    "print('........................')\n",
    "print(np.random.random((2,2)))   #prints an 2x2 array with random value(less than 1)"
   ]
  },
  {
   "cell_type": "code",
   "execution_count": 124,
   "id": "473ed0b6",
   "metadata": {},
   "outputs": [
    {
     "name": "stdout",
     "output_type": "stream",
     "text": [
      "5\n",
      "[[6 8]\n",
      " [3 9]]\n",
      "[[[2 1 4 5 2]\n",
      "  [6 6 6 4 2]\n",
      "  [9 7 3 9 8]\n",
      "  [7 1 5 9 1]]\n",
      "\n",
      " [[1 8 6 3 2]\n",
      "  [7 5 4 7 5]\n",
      "  [1 6 4 3 5]\n",
      "  [4 5 4 2 6]]\n",
      "\n",
      " [[9 3 9 9 7]\n",
      "  [4 1 1 1 4]\n",
      "  [5 9 9 8 6]\n",
      "  [7 5 1 3 7]]]\n"
     ]
    }
   ],
   "source": [
    "print(np.random.randint(1,10)) #prints a random integer between 1-10\n",
    "print(np.random.randint(1,10,(2,2)))  # Prints an 2x2 array of random integer \n",
    "print(np.random.randint(1,10,(3,4,5)))"
   ]
  },
  {
   "cell_type": "code",
   "execution_count": 128,
   "id": "4900c3ba",
   "metadata": {},
   "outputs": [
    {
     "name": "stdout",
     "output_type": "stream",
     "text": [
      "[[ 0.11935107  1.04025672]\n",
      " [ 0.8108925  -0.62382477]]\n"
     ]
    }
   ],
   "source": [
    "# print(np.random.rand(2,2))   # It is same as random.random but here we can also generate -ve numbers using a 'n'\n",
    "print(np.random.randn(2,2))"
   ]
  },
  {
   "cell_type": "code",
   "execution_count": 139,
   "id": "089afa50",
   "metadata": {},
   "outputs": [
    {
     "data": {
      "text/plain": [
       "9"
      ]
     },
     "execution_count": 139,
     "metadata": {},
     "output_type": "execute_result"
    }
   ],
   "source": [
    "# Choice function\n",
    "a=np.arange(1,10)\n",
    "# print(a)\n",
    "np.random.choice(a)"
   ]
  },
  {
   "cell_type": "code",
   "execution_count": 150,
   "id": "bab65826",
   "metadata": {},
   "outputs": [
    {
     "name": "stdout",
     "output_type": "stream",
     "text": [
      "xyz is my nameI am an Indian\n",
      "XYZ IS MY NAME\n",
      "xyz is my name\n",
      "['xyz', 'is', 'my', 'name']\n",
      "['xyz is my name']\n",
      "xyz is my surname\n",
      "************************************goodbye*************************************\n"
     ]
    }
   ],
   "source": [
    "# Using strings\n",
    "s1='xyz is my name'\n",
    "s2='I am an Indian'\n",
    "\n",
    "print(np.char.add(s1,s2))\n",
    "print(np.char.upper(s1))\n",
    "print(np.char.lower(s1))\n",
    "print(np.char.split(s1))\n",
    "print(np.char.splitlines(s1))\n",
    "print(np.char.replace(s1,'name','surname'))\n",
    "print(np.char.center('goodbye',80,'*'))"
   ]
  },
  {
   "cell_type": "code",
   "execution_count": null,
   "id": "4bad4590",
   "metadata": {},
   "outputs": [],
   "source": []
  }
 ],
 "metadata": {
  "kernelspec": {
   "display_name": "Python 3 (ipykernel)",
   "language": "python",
   "name": "python3"
  },
  "language_info": {
   "codemirror_mode": {
    "name": "ipython",
    "version": 3
   },
   "file_extension": ".py",
   "mimetype": "text/x-python",
   "name": "python",
   "nbconvert_exporter": "python",
   "pygments_lexer": "ipython3",
   "version": "3.11.1"
  }
 },
 "nbformat": 4,
 "nbformat_minor": 5
}
